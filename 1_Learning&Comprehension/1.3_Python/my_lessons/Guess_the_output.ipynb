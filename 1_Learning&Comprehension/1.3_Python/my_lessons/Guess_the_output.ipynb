{
 "cells": [
  {
   "cell_type": "markdown",
   "id": "47c39b8f-3514-408b-9d1b-b82dc7bf33a6",
   "metadata": {},
   "source": [
    "## Tricky questions"
   ]
  },
  {
   "cell_type": "markdown",
   "id": "49af9c26-5de7-4153-9538-c3f91b3d867c",
   "metadata": {},
   "source": [
    "### Q1)"
   ]
  },
  {
   "cell_type": "code",
   "execution_count": 1,
   "id": "ec01a96a-cee2-43ff-a588-e30f59a78d30",
   "metadata": {},
   "outputs": [
    {
     "name": "stdout",
     "output_type": "stream",
     "text": [
      "0\n",
      "0\n"
     ]
    }
   ],
   "source": [
    "nums = [0, 1, 2, 0, 1]\n",
    "print(nums.index(0))\n",
    "nums = [False, 1, 2, 0]\n",
    "print(nums.index(0))"
   ]
  },
  {
   "cell_type": "markdown",
   "id": "710c3c6d-58cd-45f9-a33b-576f5f1a3257",
   "metadata": {},
   "source": [
    "##### Explanation: 0 is treated as False."
   ]
  },
  {
   "cell_type": "markdown",
   "id": "e8a34c2c-552b-4f9b-9920-c21b49062969",
   "metadata": {},
   "source": [
    "### Q2)"
   ]
  },
  {
   "cell_type": "code",
   "execution_count": 2,
   "id": "41bf7d99-bfa6-4c7a-bf31-cce72ce1cef7",
   "metadata": {},
   "outputs": [],
   "source": [
    "def f1(function):\n",
    "    def dec(*args, **kwargs):\n",
    "        print(\"Start\", end=\" \")\n",
    "        function(*args, **kwargs)\n",
    "        print(\"End\", end=\" \")\n",
    "    return dec\n",
    "\n",
    "@f1\n",
    "def f(a, b=9):\n",
    "    print(a, b, end=\" \")"
   ]
  },
  {
   "cell_type": "code",
   "execution_count": 3,
   "id": "51b25b62-361d-452a-89bc-bb02f36c4bcc",
   "metadata": {},
   "outputs": [
    {
     "name": "stdout",
     "output_type": "stream",
     "text": [
      "Start Hi 9 End "
     ]
    }
   ],
   "source": [
    "f('Hi')"
   ]
  },
  {
   "cell_type": "markdown",
   "id": "ca43a33c-93bb-4f65-a067-7abaa781857d",
   "metadata": {},
   "source": [
    "### Q3) "
   ]
  },
  {
   "cell_type": "code",
   "execution_count": 4,
   "id": "1d75abea-8a39-432e-a6d7-7042740ba861",
   "metadata": {},
   "outputs": [],
   "source": [
    "import pandas as pd"
   ]
  },
  {
   "cell_type": "code",
   "execution_count": 5,
   "id": "236e3659-f48a-4924-8274-3fab617ce70b",
   "metadata": {},
   "outputs": [],
   "source": [
    "s = pd.Series([5, 2, 8, 1, 7])\n",
    "s.iat[2] = 4\n",
    "s_sorted = s.sort_values(ascending=False)"
   ]
  },
  {
   "cell_type": "code",
   "execution_count": 6,
   "id": "739122bc-bc08-4a2e-88af-1d2f67220a31",
   "metadata": {},
   "outputs": [
    {
     "data": {
      "text/plain": [
       "4    7\n",
       "0    5\n",
       "2    4\n",
       "1    2\n",
       "3    1\n",
       "dtype: int64"
      ]
     },
     "execution_count": 6,
     "metadata": {},
     "output_type": "execute_result"
    }
   ],
   "source": [
    "s_sorted"
   ]
  }
 ],
 "metadata": {
  "kernelspec": {
   "display_name": "Python 3 (ipykernel)",
   "language": "python",
   "name": "python3"
  },
  "language_info": {
   "codemirror_mode": {
    "name": "ipython",
    "version": 3
   },
   "file_extension": ".py",
   "mimetype": "text/x-python",
   "name": "python",
   "nbconvert_exporter": "python",
   "pygments_lexer": "ipython3",
   "version": "3.9.16"
  }
 },
 "nbformat": 4,
 "nbformat_minor": 5
}
