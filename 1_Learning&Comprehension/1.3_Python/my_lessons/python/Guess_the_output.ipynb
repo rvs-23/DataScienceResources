{
 "cells": [
  {
   "cell_type": "markdown",
   "id": "47c39b8f-3514-408b-9d1b-b82dc7bf33a6",
   "metadata": {},
   "source": [
    "### Tricky questions"
   ]
  },
  {
   "cell_type": "markdown",
   "id": "49af9c26-5de7-4153-9538-c3f91b3d867c",
   "metadata": {},
   "source": [
    "#### Q1)"
   ]
  },
  {
   "cell_type": "code",
   "execution_count": 1,
   "id": "ec01a96a-cee2-43ff-a588-e30f59a78d30",
   "metadata": {},
   "outputs": [
    {
     "name": "stdout",
     "output_type": "stream",
     "text": [
      "0\n",
      "0\n"
     ]
    }
   ],
   "source": [
    "nums = [0, 1, 2, 0, 1]\n",
    "print(nums.index(0))\n",
    "nums = [False, 1, 2, 0]\n",
    "print(nums.index(0))"
   ]
  },
  {
   "cell_type": "markdown",
   "id": "710c3c6d-58cd-45f9-a33b-576f5f1a3257",
   "metadata": {},
   "source": [
    "##### Explanation: 0 is treated as False."
   ]
  },
  {
   "cell_type": "markdown",
   "id": "df1efec3-6697-4e41-9a92-0b333e8353b2",
   "metadata": {},
   "source": [
    "---"
   ]
  },
  {
   "cell_type": "code",
   "execution_count": null,
   "id": "41bf7d99-bfa6-4c7a-bf31-cce72ce1cef7",
   "metadata": {},
   "outputs": [],
   "source": []
  }
 ],
 "metadata": {
  "kernelspec": {
   "display_name": "Python 3 (ipykernel)",
   "language": "python",
   "name": "python3"
  },
  "language_info": {
   "codemirror_mode": {
    "name": "ipython",
    "version": 3
   },
   "file_extension": ".py",
   "mimetype": "text/x-python",
   "name": "python",
   "nbconvert_exporter": "python",
   "pygments_lexer": "ipython3",
   "version": "3.9.13"
  }
 },
 "nbformat": 4,
 "nbformat_minor": 5
}
