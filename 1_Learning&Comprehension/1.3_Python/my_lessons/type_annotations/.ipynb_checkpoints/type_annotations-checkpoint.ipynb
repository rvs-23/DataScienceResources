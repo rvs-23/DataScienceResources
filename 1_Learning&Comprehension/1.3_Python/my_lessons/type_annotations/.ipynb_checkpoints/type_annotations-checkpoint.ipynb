{
 "cells": [
  {
   "cell_type": "markdown",
   "id": "cd07a74e-fa2b-49b4-b772-c8517046cb5b",
   "metadata": {},
   "source": [
    "## What is type annotations?\n",
    "\n",
    "It is just a hint what type a variable is.\n",
    "\n",
    "```python\n",
    "text: str = 'my name'\n",
    "\n",
    "```\n",
    "\n",
    "If we declare the variable as string and use some other datatype, the code editor complains. \n",
    "\n",
    "**Note**: Ligatures allow you to display special symbols which are otherwise unavailable. It's just for visual appearance. Enabling ligatures is specific to the code editor you are using as well as the font. Look up for your editor."
   ]
  },
  {
   "cell_type": "markdown",
   "id": "2c7489c4-ed61-48f9-a620-ab8fcd61ebdc",
   "metadata": {},
   "source": [
    "Remember, Python doesn't throw compilation errors like other languages when type annotations are violated. Instead, it throws a warning. Python doesn't care but code editor does. It is the one throwing warnings."
   ]
  },
  {
   "cell_type": "markdown",
   "id": "d4505a7b-bef8-4ad2-9658-575d52f6955f",
   "metadata": {},
   "source": [
    "## Type annotations with basic data types."
   ]
  },
  {
   "cell_type": "code",
   "execution_count": 3,
   "id": "4a72ebec-6d19-4e4f-933b-e99d3768e5eb",
   "metadata": {},
   "outputs": [],
   "source": [
    "text: str = 'rv'\n",
    "num: int = 11\n",
    "percent: float = 0.77\n",
    "\n",
    "# boolean is a sub-class of integer. False is just a constant for 0\n",
    "connected: bool = False"
   ]
  },
  {
   "cell_type": "markdown",
   "id": "6511f9ba-bb0b-4f38-8bf7-d9acf8e04f79",
   "metadata": {},
   "source": [
    "The code editor will not show warnings for using integers after annotating it with float or using boolean after annotating with integers/float."
   ]
  },
  {
   "cell_type": "code",
   "execution_count": 4,
   "id": "6dcdc56b-bced-46a4-abe8-890e8c5979d0",
   "metadata": {},
   "outputs": [],
   "source": [
    "numb: int = False\n",
    "percent: float = True"
   ]
  },
  {
   "cell_type": "code",
   "execution_count": 11,
   "id": "07f067b2-86c8-409d-baec-71ae222b02ab",
   "metadata": {},
   "outputs": [],
   "source": [
    "def format_input(user_input):\n",
    "    \"\"\"Function to return the user input with each word's first letter capitalized.\"\"\"\n",
    "    return user_input.title()\n",
    "\n",
    "# The code editor (in above) has no idea what the user input is.\n",
    "# To, test: copy and paste the above code into a cell. After typing \"user_input\", if you hit 'tab' to display the list of available functions,\n",
    "# you will not get any because the editor doesn't know the \"expected type\" of the variable."
   ]
  },
  {
   "cell_type": "code",
   "execution_count": 10,
   "id": "eb5c79a0-02b9-4654-b65b-c27f2210fee7",
   "metadata": {},
   "outputs": [
    {
     "data": {
      "text/plain": [
       "'Hello Ji'"
      ]
     },
     "execution_count": 10,
     "metadata": {},
     "output_type": "execute_result"
    }
   ],
   "source": [
    "format_input('hello ji')"
   ]
  },
  {
   "cell_type": "markdown",
   "id": "94f5b474-61e0-4fb6-a91d-76abc732eb56",
   "metadata": {},
   "source": [
    "To fix that issue, let's annotate the variable."
   ]
  },
  {
   "cell_type": "code",
   "execution_count": 12,
   "id": "fcd0b0a7-5f44-43dc-8678-56d1d484f3f9",
   "metadata": {},
   "outputs": [],
   "source": [
    "def format_input(user_input: str):\n",
    "    \"\"\"Function to return the user input with each word's first letter capitalized.\"\"\"\n",
    "    # Hitting tab after . shows us all string functions.\n",
    "    return user_input.title()"
   ]
  },
  {
   "cell_type": "code",
   "execution_count": 13,
   "id": "fe4df255-30a1-4298-b8a1-e8cb3901e5c8",
   "metadata": {},
   "outputs": [
    {
     "data": {
      "text/plain": [
       "'Hello Ji'"
      ]
     },
     "execution_count": 13,
     "metadata": {},
     "output_type": "execute_result"
    }
   ],
   "source": [
    "format_input(\"hello JI\")"
   ]
  },
  {
   "cell_type": "markdown",
   "id": "7ac0d0b2-d87f-464b-b544-c22123f17423",
   "metadata": {},
   "source": [
    "## Union types \n",
    "\n",
    "If we have the possibility where a variable could belong to one of multiple types."
   ]
  },
  {
   "cell_type": "markdown",
   "id": "8904c454-d05e-485d-8dda-adc36a79bee5",
   "metadata": {},
   "source": [
    "```python\n",
    "\n",
    "# Create a variable that can accept both an integer or a string\n",
    "\n",
    "# Python 3.10+\n",
    "var : str | int = 10\n",
    "\n",
    "```"
   ]
  },
  {
   "cell_type": "code",
   "execution_count": 17,
   "id": "9aea6a9e-ea75-454e-b65b-17fcf8340ec7",
   "metadata": {},
   "outputs": [],
   "source": [
    "# For older versions\n",
    "from typing import Union\n",
    "\n",
    "var: Union[str, int] = 10"
   ]
  },
  {
   "cell_type": "markdown",
   "id": "6ac54e54-7850-4c44-af82-3bcb00442552",
   "metadata": {},
   "source": [
    "## Annotations with data structures"
   ]
  },
  {
   "cell_type": "markdown",
   "id": "f8ae7e7c-f438-44e4-8e9f-2063c741afc0",
   "metadata": {},
   "source": [
    "### lists"
   ]
  },
  {
   "cell_type": "code",
   "execution_count": 21,
   "id": "2721777c-e5eb-4e49-89a7-d3a4423fb163",
   "metadata": {},
   "outputs": [],
   "source": [
    "ele: list = [1, 2, 3 ,4]\n",
    "\n",
    "# error: expects only lists\n",
    "ele: list[int] = [1, 2, '4']\n",
    "\n",
    "# For lists with both integer and string types\n",
    "# Python 3.10+: list[int | str]\n",
    "mixed: list[Union[int, str]] = [1, 2, '4']"
   ]
  },
  {
   "cell_type": "markdown",
   "id": "158c2bfb-3f49-488e-8e40-2ede20dabf7e",
   "metadata": {},
   "source": [
    "```python\n",
    "uncaught: list[str] = [10, None, 'hi']\n",
    "```\n",
    "The above code will not display any warnings because of the features of lists. Therefore, to stengthen type annotations testing, install mypy, and run the script from the terminal using\n",
    "\n",
    "```mypy file.py```"
   ]
  },
  {
   "cell_type": "markdown",
   "id": "a627f6a1-244f-47a6-bbc3-7359049055c6",
   "metadata": {},
   "source": [
    "### tuples"
   ]
  },
  {
   "cell_type": "code",
   "execution_count": 23,
   "id": "720c1501-dff6-40e7-89f4-92756788f66a",
   "metadata": {},
   "outputs": [],
   "source": [
    "coordinates: tuple[int, int] = (10, 2)\n",
    "coordinates: tuple[bool, int, str] = (False, 2, 's')"
   ]
  },
  {
   "cell_type": "markdown",
   "id": "6bb5591f-3310-472d-8625-2de5b448bdcb",
   "metadata": {},
   "source": [
    "Do we really keep typing if we have plenty of elements?\n",
    "\n",
    "Ideally, to be specific yes. But if you are confident about the type that would be used, you can use 'ellipsis' as follows."
   ]
  },
  {
   "cell_type": "code",
   "execution_count": 26,
   "id": "cce05c56-94a9-45f9-9489-6704bd2af048",
   "metadata": {},
   "outputs": [],
   "source": [
    "coordinates: tuple[int, ...] = (1, 2, 3, 4, 2, 1, 3)\n",
    "\n",
    "# Use int | str in Python 3.10+\n",
    "coordinates: tuple[Union[int, str], ...] = (1, 2, 3, 4, 2, 1, 3)"
   ]
  },
  {
   "cell_type": "markdown",
   "id": "37df1add-15e9-400c-afb0-1e6adbe8a7aa",
   "metadata": {},
   "source": [
    "For tuples, annotation order matters, annotating in the order [int, str] means the elements in order should be of those types to avoid warnings."
   ]
  },
  {
   "cell_type": "markdown",
   "id": "1b8697e0-47be-4ed7-9cb9-2045a5b75ec0",
   "metadata": {},
   "source": [
    "### sets"
   ]
  },
  {
   "cell_type": "code",
   "execution_count": 28,
   "id": "99a191b0-ef9f-4329-84e5-89b2f5ec1d34",
   "metadata": {},
   "outputs": [],
   "source": [
    "my_s : set = {2, 4, 1}"
   ]
  },
  {
   "cell_type": "code",
   "execution_count": 30,
   "id": "a3aa1a5c-b1fb-49de-ad12-7786c12f1e39",
   "metadata": {},
   "outputs": [],
   "source": [
    "letters: set[str] = ['a', 'b', 'c']"
   ]
  },
  {
   "cell_type": "markdown",
   "id": "f828f167-0773-4bac-a236-68e616169d0f",
   "metadata": {},
   "source": [
    "If you use None as an entry, the code editor generally wouldn't give you any warnings. To run an extensive test, use the ```mypy``` module."
   ]
  },
  {
   "cell_type": "markdown",
   "id": "d83172e8-1f5b-4ae8-9073-587a07af2956",
   "metadata": {},
   "source": [
    "### dictionary"
   ]
  },
  {
   "cell_type": "code",
   "execution_count": 31,
   "id": "689aae3f-328c-4ace-bfab-ce641f284d16",
   "metadata": {},
   "outputs": [],
   "source": [
    "my_d: dict = {'a': 1, 'z': 26}"
   ]
  },
  {
   "cell_type": "code",
   "execution_count": 32,
   "id": "4ece9519-4b62-4787-ab53-750861df0cef",
   "metadata": {},
   "outputs": [],
   "source": [
    "# To specify that key should be a string and value an integer:\n",
    "my_d: dict[str, int] = {'a': 1, 'z': 26}"
   ]
  },
  {
   "cell_type": "code",
   "execution_count": 34,
   "id": "2f313b78-053c-4884-bca8-d233b47d197a",
   "metadata": {},
   "outputs": [],
   "source": [
    "def print_dictionary(some_d: dict[int, str]):\n",
    "    \"\"\"Properly annotating the dictionary would provide support from the code editor on hitting tab, which would display all functions associated with that datatype.s\"\"\"\n",
    "    for value in some_d.values():\n",
    "        print(value.title())"
   ]
  },
  {
   "cell_type": "markdown",
   "id": "ba679fd3-35fa-44a1-9a67-52dda8847fcf",
   "metadata": {},
   "source": [
    "## Optionals"
   ]
  },
  {
   "cell_type": "code",
   "execution_count": 36,
   "id": "da4e7784-dc1d-4d93-b683-2947ea0ca736",
   "metadata": {},
   "outputs": [],
   "source": [
    "from typing import Optional\n",
    "person: Optional[str] = 'Mario'"
   ]
  },
  {
   "cell_type": "code",
   "execution_count": 38,
   "id": "0e2ea6ba-9834-4866-9ce7-eb6b7653ae8b",
   "metadata": {},
   "outputs": [],
   "source": [
    "# Python 3.10 + -> person: str | None"
   ]
  },
  {
   "cell_type": "code",
   "execution_count": 39,
   "id": "98145751-0d64-41af-b919-d9af91610e61",
   "metadata": {},
   "outputs": [],
   "source": [
    "def greetings(name: Optional[str] = None):\n",
    "    if name is None:\n",
    "        print('Nobody present')\n",
    "\n",
    "    print(f\"Hello {name}\")"
   ]
  },
  {
   "cell_type": "code",
   "execution_count": 40,
   "id": "39834148-0e09-496c-9fba-da79a37b1aa4",
   "metadata": {},
   "outputs": [
    {
     "name": "stdout",
     "output_type": "stream",
     "text": [
      "Hello me\n"
     ]
    }
   ],
   "source": [
    "greetings('me')"
   ]
  },
  {
   "cell_type": "markdown",
   "id": "61176a59-1efb-44fb-8570-36d83feecfe9",
   "metadata": {},
   "source": [
    "## Classes"
   ]
  },
  {
   "cell_type": "code",
   "execution_count": 41,
   "id": "d0748bb0-f529-4c70-ae8c-b10038a5fd2c",
   "metadata": {},
   "outputs": [],
   "source": [
    "class Fruit:\n",
    "\n",
    "    def __init__(self, name: str, grams: float):\n",
    "        self.name = name\n",
    "        self.grams = grams"
   ]
  },
  {
   "cell_type": "code",
   "execution_count": 45,
   "id": "f4cbc73e-09c8-4342-9193-026f19cfec9a",
   "metadata": {},
   "outputs": [],
   "source": [
    "orange: Fruit = Fruit(name='Orange', grams=50)"
   ]
  },
  {
   "cell_type": "code",
   "execution_count": 48,
   "id": "583ecdd9-11fa-433d-b7e1-508d9e20a264",
   "metadata": {},
   "outputs": [],
   "source": [
    "def describe_fruit(fruit: Fruit):\n",
    "    print(f\"{fruit.name} weighs {fruit.grams} grams\")"
   ]
  },
  {
   "cell_type": "code",
   "execution_count": 50,
   "id": "29b4e4fe-12f0-4b11-8c6f-308ce36d1f51",
   "metadata": {},
   "outputs": [
    {
     "name": "stdout",
     "output_type": "stream",
     "text": [
      "Orange weighs 50 grams\n"
     ]
    }
   ],
   "source": [
    "describe_fruit(orange)"
   ]
  },
  {
   "cell_type": "code",
   "execution_count": 51,
   "id": "4c66dcef-ecec-44f6-b7a4-969886ac3edc",
   "metadata": {},
   "outputs": [],
   "source": [
    "# following will throw an error\n",
    "# describe_fruit('Banana')"
   ]
  },
  {
   "cell_type": "markdown",
   "id": "59d46376-f38b-46c4-a564-a975d3b3538c",
   "metadata": {},
   "source": [
    "This style also works for sub-classes."
   ]
  },
  {
   "cell_type": "markdown",
   "id": "6ddac5bc-f0f8-409e-9a84-9dbafa5c8f47",
   "metadata": {},
   "source": [
    "## Return types"
   ]
  },
  {
   "cell_type": "code",
   "execution_count": 55,
   "id": "f758369f-f561-475d-b4ae-6f425bd3c96d",
   "metadata": {},
   "outputs": [],
   "source": [
    "def adding_nums(a: float, b: float) -> int:\n",
    "    return a + b"
   ]
  },
  {
   "cell_type": "code",
   "execution_count": 57,
   "id": "d0cabf51-4ddb-42af-8a83-8ffb3c8e24ac",
   "metadata": {},
   "outputs": [
    {
     "data": {
      "text/plain": [
       "4.1"
      ]
     },
     "execution_count": 57,
     "metadata": {},
     "output_type": "execute_result"
    }
   ],
   "source": [
    "adding_nums(3.1, 1)"
   ]
  },
  {
   "cell_type": "markdown",
   "id": "7c91959b-7e08-410e-8d23-d046dd75141b",
   "metadata": {},
   "source": [
    "Here, the code editor warns if the return types don't match the expected return type. \n",
    "\n",
    "For functions that don't return anything, you can use:\n",
    "\n",
    "```python\n",
    "def som() -> None:\n",
    "    print(\"s\")\n",
    "```"
   ]
  },
  {
   "cell_type": "code",
   "execution_count": 62,
   "id": "be94af83-c522-4ca3-942f-07776e26d6d8",
   "metadata": {},
   "outputs": [],
   "source": [
    "def fetch(id: Optional[str] = None) -> Optional[str]:\n",
    "    return id"
   ]
  },
  {
   "cell_type": "code",
   "execution_count": 63,
   "id": "5e13115f-5e70-4c8a-b0be-6c3857f98def",
   "metadata": {},
   "outputs": [],
   "source": [
    "fetch()"
   ]
  },
  {
   "cell_type": "markdown",
   "id": "0ae77626-c41e-405e-8be0-8e1dbe4b20a3",
   "metadata": {},
   "source": [
    "## External types\n",
    "\n",
    "There could be types unavailable especially when you are importing packages. This section teaches us how to handle that. "
   ]
  },
  {
   "cell_type": "code",
   "execution_count": 65,
   "id": "caf9e18c-4f3d-4556-b4b9-f4846e1bec54",
   "metadata": {},
   "outputs": [],
   "source": [
    "import requests\n",
    "\n",
    "def get_status(url: str) -> int:\n",
    "    # How do we annotate this?\n",
    "    # request has a return type Request\n",
    "    request = requests.get(url)\n",
    "    status_code: int = request.status_code\n",
    "\n",
    "    return status_code"
   ]
  },
  {
   "cell_type": "code",
   "execution_count": 67,
   "id": "541b0507-499f-4aab-81fa-8acac39ff442",
   "metadata": {},
   "outputs": [
    {
     "data": {
      "text/plain": [
       "\u001b[0;31mSignature:\u001b[0m \u001b[0mrequests\u001b[0m\u001b[0;34m.\u001b[0m\u001b[0mget\u001b[0m\u001b[0;34m(\u001b[0m\u001b[0murl\u001b[0m\u001b[0;34m,\u001b[0m \u001b[0mparams\u001b[0m\u001b[0;34m=\u001b[0m\u001b[0;32mNone\u001b[0m\u001b[0;34m,\u001b[0m \u001b[0;34m**\u001b[0m\u001b[0mkwargs\u001b[0m\u001b[0;34m)\u001b[0m\u001b[0;34m\u001b[0m\u001b[0;34m\u001b[0m\u001b[0m\n",
       "\u001b[0;31mDocstring:\u001b[0m\n",
       "Sends a GET request.\n",
       "\n",
       ":param url: URL for the new :class:`Request` object.\n",
       ":param params: (optional) Dictionary, list of tuples or bytes to send\n",
       "    in the query string for the :class:`Request`.\n",
       ":param \\*\\*kwargs: Optional arguments that ``request`` takes.\n",
       ":return: :class:`Response <Response>` object\n",
       ":rtype: requests.Response\n",
       "\u001b[0;31mFile:\u001b[0m      ~/opt/anaconda3/envs/testing_env/lib/python3.9/site-packages/requests/api.py\n",
       "\u001b[0;31mType:\u001b[0m      function"
      ]
     },
     "metadata": {},
     "output_type": "display_data"
    }
   ],
   "source": [
    "requests.get?"
   ]
  },
  {
   "cell_type": "code",
   "execution_count": 69,
   "id": "c4bf3fe7-db46-4da8-b62c-af47ccf0c5b2",
   "metadata": {},
   "outputs": [],
   "source": [
    "from requests import Response\n",
    "\n",
    "def get_status(url: str) -> int:\n",
    "    request: Response = requests.get(url)\n",
    "    status_code: int = request.status_code\n",
    "\n",
    "    return status_code"
   ]
  },
  {
   "cell_type": "markdown",
   "id": "0119ace0-ee6f-417a-881d-5f9de33dfbae",
   "metadata": {},
   "source": [
    "# Advanced Typing\n",
    "\n",
    "Basic types contained in Python are explained previously. But there could be scenarios where that is not enough. We use the typing module in such cases."
   ]
  },
  {
   "cell_type": "markdown",
   "id": "c9fcf5d3-3ca3-484e-9c07-f1ec6e246742",
   "metadata": {},
   "source": [
    "### Python <= 3.8"
   ]
  },
  {
   "cell_type": "markdown",
   "id": "7ca13ea1-65a1-46a2-805c-b933c9b68e1d",
   "metadata": {},
   "source": [
    "Before, python 3.8, one had to import even basic datatypes to annotate variables"
   ]
  },
  {
   "cell_type": "code",
   "execution_count": 70,
   "id": "4b4f65ab-8a6a-42a3-a290-b7ed0f2e615d",
   "metadata": {},
   "outputs": [],
   "source": [
    "# Python 3.8-\n",
    "from typing import List\n",
    "var: List = [1, 4, 2]\n",
    "\n",
    "# Pyhton 3.9+\n",
    "var: list = [1, 4, 2]"
   ]
  },
  {
   "cell_type": "markdown",
   "id": "500bad61-058b-41b6-a82a-74778a45a3b0",
   "metadata": {},
   "source": [
    "### any\n",
    "\n",
    "Any is a special type indicating an unconstrained type."
   ]
  },
  {
   "cell_type": "code",
   "execution_count": 73,
   "id": "bb9c8584-7497-4d6e-9a4a-6fc1b11407a5",
   "metadata": {},
   "outputs": [],
   "source": [
    "from typing import Any\n",
    "\n",
    "from sys import getsizeof"
   ]
  },
  {
   "cell_type": "code",
   "execution_count": 75,
   "id": "8adfbe6d-6822-4d70-82c9-3308c021ac39",
   "metadata": {},
   "outputs": [],
   "source": [
    "# By default any variable that is not annotated is assigned the type 'Any'. An explicit way of doing it is:\n",
    "def disp_size(user_inp: Any) -> None:\n",
    "    print(f\"{user_inp} -> {getsizeof(user_inp)} bytes\")"
   ]
  },
  {
   "cell_type": "code",
   "execution_count": 76,
   "id": "ef5f33d9-63b3-4f9e-8a38-8902d669730c",
   "metadata": {},
   "outputs": [
    {
     "name": "stdout",
     "output_type": "stream",
     "text": [
      "[1, 3, -1] -> 120 bytes\n"
     ]
    }
   ],
   "source": [
    "disp_size([1, 3, -1])"
   ]
  },
  {
   "cell_type": "code",
   "execution_count": 77,
   "id": "b8cf71d3-cec3-44c1-ad90-523c9ab84061",
   "metadata": {},
   "outputs": [
    {
     "name": "stdout",
     "output_type": "stream",
     "text": [
      "None -> 16 bytes\n"
     ]
    }
   ],
   "source": [
    "disp_size(None)"
   ]
  },
  {
   "cell_type": "markdown",
   "id": "93da9f6e-3464-49a4-9040-bef1afcb04e3",
   "metadata": {},
   "source": [
    "### final\n",
    "\n",
    "A way to annotate a variable as constant.\n",
    "\n",
    "\n",
    "```\n",
    "  MAX_SIZE: Final = 9000\n",
    "  MAX_SIZE += 1  # Error reported by type checker\n",
    "```"
   ]
  },
  {
   "cell_type": "code",
   "execution_count": 82,
   "id": "31c8905d-59c6-4961-ba9f-0bcab0338e5e",
   "metadata": {},
   "outputs": [],
   "source": [
    "from typing import Final"
   ]
  },
  {
   "cell_type": "code",
   "execution_count": 83,
   "id": "9939d9bc-26ef-4588-9252-a89a628cd9d8",
   "metadata": {},
   "outputs": [],
   "source": [
    "CONS: Final[float] = 3.14"
   ]
  },
  {
   "cell_type": "markdown",
   "id": "e7574858-444f-4bad-ac07-512d273c13e8",
   "metadata": {},
   "source": [
    "### Iterables"
   ]
  },
  {
   "cell_type": "code",
   "execution_count": 85,
   "id": "3dae27ce-5641-4b4f-a470-c6238c56688a",
   "metadata": {},
   "outputs": [],
   "source": [
    "from typing import Iterable"
   ]
  },
  {
   "cell_type": "code",
   "execution_count": 86,
   "id": "a1defbc6-96a3-41f5-bd57-ef7ca6e29cfd",
   "metadata": {},
   "outputs": [],
   "source": [
    "def list_ele(ele: Iterable) -> None:\n",
    "    for i, element in enumerate(ele, start=1):\n",
    "        print(i, element, sep=': ')"
   ]
  },
  {
   "cell_type": "code",
   "execution_count": 89,
   "id": "5eb4e9e3-3ae7-4ce3-b01f-046459bf83e8",
   "metadata": {},
   "outputs": [
    {
     "name": "stdout",
     "output_type": "stream",
     "text": [
      "1: me\n",
      "2: you\n",
      "3: I\n"
     ]
    }
   ],
   "source": [
    "people: list[str] = ['me', 'you', 'I']\n",
    "\n",
    "list_ele(people)\n",
    "\n",
    "# warning if I pass a non-iterable like\n",
    "# list_ele(10)"
   ]
  },
  {
   "cell_type": "markdown",
   "id": "3d6f40d0-d644-4bd3-9101-619bc7890791",
   "metadata": {},
   "source": [
    "### Sequences"
   ]
  },
  {
   "cell_type": "code",
   "execution_count": 90,
   "id": "90ac5734-8ee5-4626-88d1-4bafe1330ea3",
   "metadata": {},
   "outputs": [],
   "source": [
    "from typing import Sequence"
   ]
  },
  {
   "cell_type": "code",
   "execution_count": 91,
   "id": "91234f95-bb1a-48da-8772-8ab5f2580cc8",
   "metadata": {},
   "outputs": [],
   "source": [
    "sample_set: set[int] = {1, 5, 9}\n",
    "sample_list: list[int] = [4, 1, 5]"
   ]
  },
  {
   "cell_type": "code",
   "execution_count": 92,
   "id": "2c564877-b547-4546-b419-7231af7fc641",
   "metadata": {},
   "outputs": [],
   "source": [
    "def get_first(sq: Sequence[int]) -> int:\n",
    "    return sq[0] if sq else -1"
   ]
  },
  {
   "cell_type": "code",
   "execution_count": 93,
   "id": "a2af548f-7cbd-4ff1-89f9-4df3367370c2",
   "metadata": {},
   "outputs": [
    {
     "data": {
      "text/plain": [
       "4"
      ]
     },
     "execution_count": 93,
     "metadata": {},
     "output_type": "execute_result"
    }
   ],
   "source": [
    "get_first(sample_list)"
   ]
  },
  {
   "cell_type": "code",
   "execution_count": 96,
   "id": "bebbe92a-c413-4a34-9b4c-b7ef588a87e8",
   "metadata": {},
   "outputs": [],
   "source": [
    "# Warning because sample_set isn't of type sequence\n",
    "# because set isn't scriptable\n",
    "# get_first(sample_set)"
   ]
  },
  {
   "cell_type": "markdown",
   "id": "e28c77e0-37e2-4c71-a80f-e3a2075084d1",
   "metadata": {},
   "source": [
    "### Callables"
   ]
  },
  {
   "cell_type": "code",
   "execution_count": 97,
   "id": "a7b32abd-a9c4-4f7c-b435-023fb6b901f8",
   "metadata": {},
   "outputs": [],
   "source": [
    "from typing import Callable\n",
    "from datetime import datetime"
   ]
  },
  {
   "cell_type": "code",
   "execution_count": 98,
   "id": "9929ec03-3542-4beb-9afd-25899c0647e8",
   "metadata": {},
   "outputs": [],
   "source": [
    "def get_time() -> str:\n",
    "    return f'Current time: {datetime.now(): %H:%M:%S}'"
   ]
  },
  {
   "cell_type": "code",
   "execution_count": 100,
   "id": "fe060d92-0f78-467e-a45f-f098bf6c13aa",
   "metadata": {},
   "outputs": [],
   "source": [
    "def repeat(func: Callable, amount: int) -> None:\n",
    "    \"\"\"Function to return the current time 'amount' number of times.\"\"\"\n",
    "    for i in range(amount):\n",
    "        print(f\"{i+1}: {func()}\")"
   ]
  },
  {
   "cell_type": "code",
   "execution_count": 102,
   "id": "649d3638-05c0-437c-a20b-3a2c577490a4",
   "metadata": {},
   "outputs": [
    {
     "name": "stdout",
     "output_type": "stream",
     "text": [
      "1: Current time:  01:26:48\n",
      "2: Current time:  01:26:48\n",
      "3: Current time:  01:26:48\n",
      "4: Current time:  01:26:48\n"
     ]
    }
   ],
   "source": [
    "repeat(get_time, 4)"
   ]
  },
  {
   "cell_type": "markdown",
   "id": "65a2e129-4a3f-4e84-b601-6ca4ab15e099",
   "metadata": {},
   "source": [
    "## Protocols\n",
    "\n",
    "Defines the structure of what a class should look like."
   ]
  },
  {
   "cell_type": "code",
   "execution_count": 104,
   "id": "53a21ad8-beaa-4481-b651-afb57902fafe",
   "metadata": {},
   "outputs": [],
   "source": [
    "from typing import Protocol\n",
    "\n",
    "class Printer(Protocol):\n",
    "\n",
    "    def print(self, magazing: str) -> None:\n",
    "        # Implementation doesn't matter\n",
    "        # use ellipsis or pass\n",
    "        ...\n",
    "\n",
    "    def copy(self, magazing: str, copies: int) -> None:\n",
    "        ..."
   ]
  },
  {
   "cell_type": "code",
   "execution_count": 114,
   "id": "50e6cad0-e727-4787-9144-18d993fe0ca8",
   "metadata": {},
   "outputs": [],
   "source": [
    "# LaserPrinter follows the Protocol of Printer class as long as it has \n",
    "# the two functions currently within Printer.\n",
    "class LaserPrinter:\n",
    "\n",
    "    def __init__(self, name: str, version: int) -> None:\n",
    "        self.name = name\n",
    "        self.version = version\n",
    "\n",
    "    def print(self, magazine: str) -> None:\n",
    "        print(f\"{self.name}: {self.version} is printing: {magazine}\")\n",
    "\n",
    "    def copy(self, magazine: str, copies: int) -> None:\n",
    "        print(f\"{self.name} ({self.version}) is making {copies} copies of {magazine}.\")"
   ]
  },
  {
   "cell_type": "code",
   "execution_count": 115,
   "id": "7715dca1-9bb1-4a48-adba-d0b9c860efa2",
   "metadata": {},
   "outputs": [],
   "source": [
    "# will throw a warning if LaserPrinter doesn't follow the Printer protocol\n",
    "lp: Printer = LaserPrinter('LP', version=1)"
   ]
  },
  {
   "cell_type": "code",
   "execution_count": 116,
   "id": "b99bd02c-9336-44f0-9b35-ac81c9f8b37c",
   "metadata": {},
   "outputs": [],
   "source": [
    "def print_magazine(printer: Printer, magazine: str) -> None:\n",
    "    printer.print(magazine)\n",
    "    print('Performing...')\n",
    "    printer.copy(magazine, copies=5)\n",
    "    print('Shut down...')"
   ]
  },
  {
   "cell_type": "code",
   "execution_count": 117,
   "id": "d172f211-faec-48e6-8128-bfd812ffc2b1",
   "metadata": {},
   "outputs": [
    {
     "name": "stdout",
     "output_type": "stream",
     "text": [
      "LP: 1 is printing: Python Times\n",
      "Performing...\n",
      "LP (1) is making 5 copies of Python Times.\n",
      "Shut down...\n"
     ]
    }
   ],
   "source": [
    "print_magazine(lp, 'Python Times')"
   ]
  },
  {
   "cell_type": "markdown",
   "id": "78d3fdc7-a3fe-4228-87c4-185a4bcf1680",
   "metadata": {},
   "source": [
    "This adds a lot of flexibility:\n",
    "\n",
    "- Instead of adding a laser printer, we can add any printer to the print_magazine function.\n",
    "\n",
    "- Helps a lot with dependency injection. "
   ]
  },
  {
   "cell_type": "markdown",
   "id": "64d1a7b6-268c-4dea-8845-001dabe0b686",
   "metadata": {},
   "source": [
    "### Literal\n",
    "\n",
    "The model while opening a file is of type literal."
   ]
  },
  {
   "cell_type": "code",
   "execution_count": 118,
   "id": "c856e878-99d0-462f-be19-0d788aab02e1",
   "metadata": {},
   "outputs": [],
   "source": [
    "from typing import Literal"
   ]
  },
  {
   "cell_type": "code",
   "execution_count": 122,
   "id": "11264bc1-e7a8-4fcd-9a79-85d71804e619",
   "metadata": {},
   "outputs": [],
   "source": [
    "Mode = Literal['r', 'w', 'a']\n",
    "\n",
    "def read_file(file: str, mode: Mode) -> None:\n",
    "    \"\"\"Helper function to read a file.\"\"\"\n",
    "    print(f\"Reading {file} in '{mode}' mode.\")"
   ]
  },
  {
   "cell_type": "code",
   "execution_count": 124,
   "id": "f1361c2b-5a63-48d9-8e89-cbd04fa27bdd",
   "metadata": {},
   "outputs": [
    {
     "name": "stdout",
     "output_type": "stream",
     "text": [
      "Reading ex.csv in 'r' mode.\n"
     ]
    }
   ],
   "source": [
    "read_file('ex.csv', mode='r')"
   ]
  },
  {
   "cell_type": "code",
   "execution_count": 126,
   "id": "0fcd5e42-b72b-4e10-a61a-2937985a60b6",
   "metadata": {},
   "outputs": [
    {
     "name": "stdout",
     "output_type": "stream",
     "text": [
      "Reading ex.csv in 'ss' mode.\n"
     ]
    }
   ],
   "source": [
    "# We get a warning here because this mode doesn't exist.\n",
    "read_file('ex.csv', mode='ss')"
   ]
  },
  {
   "cell_type": "markdown",
   "id": "13ee5f95-68a4-46de-9de2-cee0c447d21e",
   "metadata": {},
   "source": [
    "## Next:\n",
    "\n",
    "https://mypy.readthedocs.io/en/stable/index.html"
   ]
  },
  {
   "cell_type": "markdown",
   "id": "47d100e9-4dc4-46f6-b423-ef74a6037032",
   "metadata": {},
   "source": [
    "---"
   ]
  }
 ],
 "metadata": {
  "kernelspec": {
   "display_name": "Python 3 (ipykernel)",
   "language": "python",
   "name": "python3"
  },
  "language_info": {
   "codemirror_mode": {
    "name": "ipython",
    "version": 3
   },
   "file_extension": ".py",
   "mimetype": "text/x-python",
   "name": "python",
   "nbconvert_exporter": "python",
   "pygments_lexer": "ipython3",
   "version": "3.9.16"
  }
 },
 "nbformat": 4,
 "nbformat_minor": 5
}
